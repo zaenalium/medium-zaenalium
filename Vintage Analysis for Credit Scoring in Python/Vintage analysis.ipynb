{
 "cells": [
  {
   "cell_type": "code",
   "execution_count": 3,
   "id": "3dc12806-d636-4587-8757-09167b9eb5f6",
   "metadata": {},
   "outputs": [
    {
     "data": {
      "text/html": [
       "<div>\n",
       "<style scoped>\n",
       "    .dataframe tbody tr th:only-of-type {\n",
       "        vertical-align: middle;\n",
       "    }\n",
       "\n",
       "    .dataframe tbody tr th {\n",
       "        vertical-align: top;\n",
       "    }\n",
       "\n",
       "    .dataframe thead th {\n",
       "        text-align: right;\n",
       "    }\n",
       "</style>\n",
       "<table border=\"1\" class=\"dataframe\">\n",
       "  <thead>\n",
       "    <tr style=\"text-align: right;\">\n",
       "      <th></th>\n",
       "      <th>ID</th>\n",
       "      <th>STATUS</th>\n",
       "      <th>START_DATE</th>\n",
       "      <th>SNAPSHOT_MONTH</th>\n",
       "    </tr>\n",
       "  </thead>\n",
       "  <tbody>\n",
       "    <tr>\n",
       "      <th>0</th>\n",
       "      <td>5001711</td>\n",
       "      <td>0</td>\n",
       "      <td>2022-09-01</td>\n",
       "      <td>2022-09-01</td>\n",
       "    </tr>\n",
       "    <tr>\n",
       "      <th>1</th>\n",
       "      <td>5001711</td>\n",
       "      <td>0</td>\n",
       "      <td>2022-09-01</td>\n",
       "      <td>2022-10-01</td>\n",
       "    </tr>\n",
       "    <tr>\n",
       "      <th>2</th>\n",
       "      <td>5001711</td>\n",
       "      <td>0</td>\n",
       "      <td>2022-09-01</td>\n",
       "      <td>2022-11-01</td>\n",
       "    </tr>\n",
       "    <tr>\n",
       "      <th>3</th>\n",
       "      <td>5001711</td>\n",
       "      <td>X</td>\n",
       "      <td>2022-09-01</td>\n",
       "      <td>2022-12-01</td>\n",
       "    </tr>\n",
       "    <tr>\n",
       "      <th>4</th>\n",
       "      <td>5001712</td>\n",
       "      <td>0</td>\n",
       "      <td>2021-06-01</td>\n",
       "      <td>2021-06-01</td>\n",
       "    </tr>\n",
       "  </tbody>\n",
       "</table>\n",
       "</div>"
      ],
      "text/plain": [
       "        ID STATUS START_DATE SNAPSHOT_MONTH\n",
       "0  5001711      0 2022-09-01     2022-09-01\n",
       "1  5001711      0 2022-09-01     2022-10-01\n",
       "2  5001711      0 2022-09-01     2022-11-01\n",
       "3  5001711      X 2022-09-01     2022-12-01\n",
       "4  5001712      0 2021-06-01     2021-06-01"
      ]
     },
     "execution_count": 3,
     "metadata": {},
     "output_type": "execute_result"
    }
   ],
   "source": [
    "import pandas as pd\n",
    "import numpy as np\n",
    "import matplotlib.pyplot as plt\n",
    "pd.set_option('display.max_columns', 1000)\n",
    "pd.set_option('display.max_rows', 1000)\n",
    "from dateutil.relativedelta import relativedelta\n",
    "\n",
    "credit = pd.read_csv(\"credit_record.csv\").drop('Unnamed: 0', axis=1, errors='ignore')\n",
    "credit['START_DATE'] = pd.to_datetime(credit['START_DATE'])\n",
    "credit['SNAPSHOT_MONTH'] = pd.to_datetime(credit['SNAPSHOT_MONTH'])\n",
    "credit.head()"
   ]
  },
  {
   "cell_type": "code",
   "execution_count": 4,
   "id": "78ffb735-db43-4f23-b58a-494847cabdbe",
   "metadata": {},
   "outputs": [
    {
     "name": "stdout",
     "output_type": "stream",
     "text": [
      "Unique values ==> \n"
     ]
    },
    {
     "data": {
      "text/plain": [
       "ID                45971\n",
       "STATUS                8\n",
       "START_DATE           61\n",
       "SNAPSHOT_MONTH       61\n",
       "dtype: int64"
      ]
     },
     "execution_count": 4,
     "metadata": {},
     "output_type": "execute_result"
    }
   ],
   "source": [
    "print(\"Unique values ==> \")\n",
    "credit.apply(lambda x: x.nunique())"
   ]
  },
  {
   "cell_type": "code",
   "execution_count": 5,
   "id": "56d764c9-c3ee-4d51-935c-4218f1d620bd",
   "metadata": {},
   "outputs": [
    {
     "name": "stdout",
     "output_type": "stream",
     "text": [
      "Missing values values ==> \n"
     ]
    },
    {
     "data": {
      "text/plain": [
       "ID                0\n",
       "STATUS            0\n",
       "START_DATE        0\n",
       "SNAPSHOT_MONTH    0\n",
       "dtype: int64"
      ]
     },
     "execution_count": 5,
     "metadata": {},
     "output_type": "execute_result"
    }
   ],
   "source": [
    "print(\"Missing values values ==> \")\n",
    "credit.apply(lambda x: x.isnull().sum())"
   ]
  },
  {
   "cell_type": "code",
   "execution_count": 6,
   "id": "0ba33432-2c0c-452f-8204-16783de7e9a2",
   "metadata": {},
   "outputs": [
    {
     "data": {
      "text/plain": [
       "STATUS\n",
       "C    441786\n",
       "0    383019\n",
       "X    209227\n",
       "1     11059\n",
       "5      1681\n",
       "2       865\n",
       "3       315\n",
       "4       222\n",
       "Name: count, dtype: int64"
      ]
     },
     "execution_count": 6,
     "metadata": {},
     "output_type": "execute_result"
    }
   ],
   "source": [
    "credit.STATUS.value_counts()"
   ]
  },
  {
   "cell_type": "code",
   "execution_count": 7,
   "id": "9b640f27-c77f-4e0e-9fac-9a38e58a8a3f",
   "metadata": {},
   "outputs": [],
   "source": [
    "from operator import attrgetter\n"
   ]
  },
  {
   "cell_type": "code",
   "execution_count": 8,
   "id": "54ccd605-72ec-4a96-b479-3596f9dc7bf8",
   "metadata": {},
   "outputs": [],
   "source": [
    "credit['n_period'] = (credit['SNAPSHOT_MONTH'].dt.to_period('M') - credit['START_DATE'].dt.to_period('M')).apply(attrgetter('n'))"
   ]
  },
  {
   "cell_type": "code",
   "execution_count": 9,
   "id": "72965488-4605-44a6-bd51-3fbe875576f8",
   "metadata": {},
   "outputs": [],
   "source": [
    "credit['is_30_past_due'] = np.where(credit['STATUS'].isin(['1', '2', '3','4', '5']), 1, 0)"
   ]
  },
  {
   "cell_type": "code",
   "execution_count": null,
   "id": "018188c4",
   "metadata": {},
   "outputs": [],
   "source": [
    "# HAPUS C atau X jika perlu"
   ]
  },
  {
   "cell_type": "code",
   "execution_count": 11,
   "id": "9adbc6a3-1e15-4d74-95c2-173164415df1",
   "metadata": {},
   "outputs": [],
   "source": [
    "cnt2 = credit.groupby(['START_DATE', 'n_period'])['is_30_past_due'].agg(['count', 'sum']).reset_index()"
   ]
  },
  {
   "cell_type": "code",
   "execution_count": 19,
   "id": "0137ea28-628c-4d6a-b530-9c5c693501a4",
   "metadata": {},
   "outputs": [],
   "source": [
    "cnt2['cumsum'] = cnt2.sort_values(['START_DATE','n_period'],ascending=True).groupby(['START_DATE'])['sum'].cumsum()"
   ]
  },
  {
   "cell_type": "code",
   "execution_count": 21,
   "id": "6f682ce6-55ba-4dc0-9f91-78e2534cbc98",
   "metadata": {},
   "outputs": [],
   "source": [
    "cnt2['bad'] = cnt2['cumsum']/cnt2['count']"
   ]
  },
  {
   "cell_type": "code",
   "execution_count": 22,
   "id": "6a6928db",
   "metadata": {},
   "outputs": [
    {
     "data": {
      "text/html": [
       "<div>\n",
       "<style scoped>\n",
       "    .dataframe tbody tr th:only-of-type {\n",
       "        vertical-align: middle;\n",
       "    }\n",
       "\n",
       "    .dataframe tbody tr th {\n",
       "        vertical-align: top;\n",
       "    }\n",
       "\n",
       "    .dataframe thead th {\n",
       "        text-align: right;\n",
       "    }\n",
       "</style>\n",
       "<table border=\"1\" class=\"dataframe\">\n",
       "  <thead>\n",
       "    <tr style=\"text-align: right;\">\n",
       "      <th></th>\n",
       "      <th>START_DATE</th>\n",
       "      <th>n_period</th>\n",
       "      <th>count</th>\n",
       "      <th>sum</th>\n",
       "      <th>cumsum</th>\n",
       "      <th>bad</th>\n",
       "    </tr>\n",
       "  </thead>\n",
       "  <tbody>\n",
       "    <tr>\n",
       "      <th>0</th>\n",
       "      <td>2017-12-01</td>\n",
       "      <td>0</td>\n",
       "      <td>415</td>\n",
       "      <td>0</td>\n",
       "      <td>0</td>\n",
       "      <td>0.000000</td>\n",
       "    </tr>\n",
       "    <tr>\n",
       "      <th>1</th>\n",
       "      <td>2017-12-01</td>\n",
       "      <td>1</td>\n",
       "      <td>414</td>\n",
       "      <td>2</td>\n",
       "      <td>2</td>\n",
       "      <td>0.004831</td>\n",
       "    </tr>\n",
       "    <tr>\n",
       "      <th>2</th>\n",
       "      <td>2017-12-01</td>\n",
       "      <td>2</td>\n",
       "      <td>410</td>\n",
       "      <td>6</td>\n",
       "      <td>8</td>\n",
       "      <td>0.019512</td>\n",
       "    </tr>\n",
       "    <tr>\n",
       "      <th>3</th>\n",
       "      <td>2017-12-01</td>\n",
       "      <td>3</td>\n",
       "      <td>408</td>\n",
       "      <td>5</td>\n",
       "      <td>13</td>\n",
       "      <td>0.031863</td>\n",
       "    </tr>\n",
       "    <tr>\n",
       "      <th>4</th>\n",
       "      <td>2017-12-01</td>\n",
       "      <td>4</td>\n",
       "      <td>403</td>\n",
       "      <td>9</td>\n",
       "      <td>22</td>\n",
       "      <td>0.054591</td>\n",
       "    </tr>\n",
       "    <tr>\n",
       "      <th>...</th>\n",
       "      <td>...</td>\n",
       "      <td>...</td>\n",
       "      <td>...</td>\n",
       "      <td>...</td>\n",
       "      <td>...</td>\n",
       "      <td>...</td>\n",
       "    </tr>\n",
       "    <tr>\n",
       "      <th>1886</th>\n",
       "      <td>2022-10-01</td>\n",
       "      <td>1</td>\n",
       "      <td>770</td>\n",
       "      <td>14</td>\n",
       "      <td>14</td>\n",
       "      <td>0.018182</td>\n",
       "    </tr>\n",
       "    <tr>\n",
       "      <th>1887</th>\n",
       "      <td>2022-10-01</td>\n",
       "      <td>2</td>\n",
       "      <td>750</td>\n",
       "      <td>14</td>\n",
       "      <td>28</td>\n",
       "      <td>0.037333</td>\n",
       "    </tr>\n",
       "    <tr>\n",
       "      <th>1888</th>\n",
       "      <td>2022-11-01</td>\n",
       "      <td>0</td>\n",
       "      <td>684</td>\n",
       "      <td>0</td>\n",
       "      <td>0</td>\n",
       "      <td>0.000000</td>\n",
       "    </tr>\n",
       "    <tr>\n",
       "      <th>1889</th>\n",
       "      <td>2022-11-01</td>\n",
       "      <td>1</td>\n",
       "      <td>680</td>\n",
       "      <td>10</td>\n",
       "      <td>10</td>\n",
       "      <td>0.014706</td>\n",
       "    </tr>\n",
       "    <tr>\n",
       "      <th>1890</th>\n",
       "      <td>2022-12-01</td>\n",
       "      <td>0</td>\n",
       "      <td>369</td>\n",
       "      <td>0</td>\n",
       "      <td>0</td>\n",
       "      <td>0.000000</td>\n",
       "    </tr>\n",
       "  </tbody>\n",
       "</table>\n",
       "<p>1891 rows × 6 columns</p>\n",
       "</div>"
      ],
      "text/plain": [
       "     START_DATE  n_period  count  sum  cumsum       bad\n",
       "0    2017-12-01         0    415    0       0  0.000000\n",
       "1    2017-12-01         1    414    2       2  0.004831\n",
       "2    2017-12-01         2    410    6       8  0.019512\n",
       "3    2017-12-01         3    408    5      13  0.031863\n",
       "4    2017-12-01         4    403    9      22  0.054591\n",
       "...         ...       ...    ...  ...     ...       ...\n",
       "1886 2022-10-01         1    770   14      14  0.018182\n",
       "1887 2022-10-01         2    750   14      28  0.037333\n",
       "1888 2022-11-01         0    684    0       0  0.000000\n",
       "1889 2022-11-01         1    680   10      10  0.014706\n",
       "1890 2022-12-01         0    369    0       0  0.000000\n",
       "\n",
       "[1891 rows x 6 columns]"
      ]
     },
     "execution_count": 22,
     "metadata": {},
     "output_type": "execute_result"
    }
   ],
   "source": [
    "cnt2"
   ]
  },
  {
   "cell_type": "code",
   "execution_count": null,
   "id": "8d06a962",
   "metadata": {},
   "outputs": [],
   "source": []
  }
 ],
 "metadata": {
  "kernelspec": {
   "display_name": "base",
   "language": "python",
   "name": "python3"
  },
  "language_info": {
   "codemirror_mode": {
    "name": "ipython",
    "version": 3
   },
   "file_extension": ".py",
   "mimetype": "text/x-python",
   "name": "python",
   "nbconvert_exporter": "python",
   "pygments_lexer": "ipython3",
   "version": "3.12.4"
  }
 },
 "nbformat": 4,
 "nbformat_minor": 5
}
